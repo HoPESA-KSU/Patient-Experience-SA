{
 "cells": [
  {
   "cell_type": "code",
   "execution_count": 84,
   "metadata": {
    "id": "431dda37"
   },
   "outputs": [],
   "source": [
    "import gensim\n",
    "import re\n",
    "import pandas as pd\n",
    "import numpy as np\n",
    "from sklearn import svm\n",
    "from sklearn.model_selection import StratifiedShuffleSplit\n",
    "from sklearn.metrics import accuracy_score\n",
    "import string\n",
    "import nltk\n",
    "from nltk.corpus import stopwords\n",
    "from sklearn import metrics\n",
    "import statistics\n",
    "import matplotlib.pyplot as plt"
   ]
  },
  {
   "cell_type": "code",
   "execution_count": 63,
   "metadata": {
    "id": "652c6319"
   },
   "outputs": [],
   "source": [
    "#load the model\n",
    "model = gensim.models.Word2Vec.load('D:/download2/full_grams_sg_300_twitter/full_grams_sg_300_twitter.mdl')"
   ]
  },
  {
   "cell_type": "code",
   "execution_count": 64,
   "metadata": {
    "id": "eb91b3c1"
   },
   "outputs": [],
   "source": [
    "#set number of features(length of vector)\n",
    "num_features = 300"
   ]
  },
  {
   "cell_type": "code",
   "execution_count": 65,
   "metadata": {
    "colab": {
     "base_uri": "https://localhost:8080/"
    },
    "id": "1dedb0b8",
    "outputId": "0da597aa-5e78-4c60-df71-c16c9d7f0828"
   },
   "outputs": [
    {
     "data": {
      "text/plain": [
       "(12400, 6)"
      ]
     },
     "execution_count": 65,
     "metadata": {},
     "output_type": "execute_result"
    }
   ],
   "source": [
    "#load the dataset\n",
    "df = pd.read_csv(\"finalDataset.csv\")\n",
    "#drop NaN rows \n",
    "df = df.dropna()\n",
    "\n",
    "df.shape"
   ]
  },
  {
   "cell_type": "code",
   "execution_count": 66,
   "metadata": {
    "colab": {
     "base_uri": "https://localhost:8080/",
     "height": 206
    },
    "id": "07b0f52f",
    "outputId": "ea620e5f-1756-4951-a93a-ffba4e78cfb1"
   },
   "outputs": [
    {
     "data": {
      "text/html": [
       "<div>\n",
       "<style scoped>\n",
       "    .dataframe tbody tr th:only-of-type {\n",
       "        vertical-align: middle;\n",
       "    }\n",
       "\n",
       "    .dataframe tbody tr th {\n",
       "        vertical-align: top;\n",
       "    }\n",
       "\n",
       "    .dataframe thead th {\n",
       "        text-align: right;\n",
       "    }\n",
       "</style>\n",
       "<table border=\"1\" class=\"dataframe\">\n",
       "  <thead>\n",
       "    <tr style=\"text-align: right;\">\n",
       "      <th></th>\n",
       "      <th>tweet</th>\n",
       "      <th>label1</th>\n",
       "      <th>label2</th>\n",
       "      <th>label3</th>\n",
       "      <th>finalLabel</th>\n",
       "      <th>sector</th>\n",
       "    </tr>\n",
       "  </thead>\n",
       "  <tbody>\n",
       "    <tr>\n",
       "      <th>0</th>\n",
       "      <td>@tfrabiah دكتور اعاني من مشكله والدتي كبيره في...</td>\n",
       "      <td>-1</td>\n",
       "      <td>-1</td>\n",
       "      <td>-1</td>\n",
       "      <td>-1</td>\n",
       "      <td>private</td>\n",
       "    </tr>\n",
       "    <tr>\n",
       "      <th>1</th>\n",
       "      <td>@SaudiMOH مستشفى عبيد التخصصي لا يجري اي تدابي...</td>\n",
       "      <td>-1</td>\n",
       "      <td>-1</td>\n",
       "      <td>-1</td>\n",
       "      <td>-1</td>\n",
       "      <td>private</td>\n",
       "    </tr>\n",
       "    <tr>\n",
       "      <th>2</th>\n",
       "      <td>@Ahmed_S_Alrajhi يابو سليمان ليتك تجي تشوف الت...</td>\n",
       "      <td>-1</td>\n",
       "      <td>-1</td>\n",
       "      <td>-1</td>\n",
       "      <td>-1</td>\n",
       "      <td>private</td>\n",
       "    </tr>\n",
       "    <tr>\n",
       "      <th>3</th>\n",
       "      <td>في مستشفى الموسى التخصصي @almoosahospital ينته...</td>\n",
       "      <td>-1</td>\n",
       "      <td>-1</td>\n",
       "      <td>-1</td>\n",
       "      <td>-1</td>\n",
       "      <td>private</td>\n",
       "    </tr>\n",
       "    <tr>\n",
       "      <th>4</th>\n",
       "      <td>@SaAskExp نصيحتي لك اهرب مستشفى متهالك تدخل مت...</td>\n",
       "      <td>-1</td>\n",
       "      <td>-1</td>\n",
       "      <td>-1</td>\n",
       "      <td>-1</td>\n",
       "      <td>private</td>\n",
       "    </tr>\n",
       "  </tbody>\n",
       "</table>\n",
       "</div>"
      ],
      "text/plain": [
       "                                               tweet  label1  label2  label3  \\\n",
       "0  @tfrabiah دكتور اعاني من مشكله والدتي كبيره في...      -1      -1      -1   \n",
       "1  @SaudiMOH مستشفى عبيد التخصصي لا يجري اي تدابي...      -1      -1      -1   \n",
       "2  @Ahmed_S_Alrajhi يابو سليمان ليتك تجي تشوف الت...      -1      -1      -1   \n",
       "3  في مستشفى الموسى التخصصي @almoosahospital ينته...      -1      -1      -1   \n",
       "4  @SaAskExp نصيحتي لك اهرب مستشفى متهالك تدخل مت...      -1      -1      -1   \n",
       "\n",
       "   finalLabel   sector  \n",
       "0          -1  private  \n",
       "1          -1  private  \n",
       "2          -1  private  \n",
       "3          -1  private  \n",
       "4          -1  private  "
      ]
     },
     "execution_count": 66,
     "metadata": {},
     "output_type": "execute_result"
    }
   ],
   "source": [
    "df.head()"
   ]
  },
  {
   "cell_type": "code",
   "execution_count": 67,
   "metadata": {
    "id": "7408af6f"
   },
   "outputs": [],
   "source": [
    "X = df['tweet']\n",
    "y = df['finalLabel']"
   ]
  },
  {
   "cell_type": "markdown",
   "metadata": {},
   "source": [
    "# Preprocessing"
   ]
  },
  {
   "cell_type": "code",
   "execution_count": 68,
   "metadata": {},
   "outputs": [],
   "source": [
    "def replace_emoji(tweet):\n",
    "    result = ' '\n",
    "    for char in tweet:\n",
    "        result += emoji_dict.get(char, char)\n",
    "    return result"
   ]
  },
  {
   "cell_type": "code",
   "execution_count": 69,
   "metadata": {},
   "outputs": [],
   "source": [
    "emj_df = pd.read_csv(\"emoji.csv\")\n",
    "emj = emj_df['Emoji']\n",
    "sent = emj_df['sentiment']\n",
    "\n",
    "emoji_dict = {emj[i]: sent[i] for i in range(len(emj))}"
   ]
  },
  {
   "cell_type": "code",
   "execution_count": 70,
   "metadata": {
    "id": "f5766d8f"
   },
   "outputs": [],
   "source": [
    "#function to clean and normalize each tweet\n",
    "def preprocess(tweet): \n",
    "    \n",
    "    #Replace emoji with their semantics\n",
    "    tweet =  replace_emoji(tweet)\n",
    "    \n",
    "    #Remove http links and mention tags\n",
    "    tweet = re.sub(r\"(?:\\@|http?\\://|https?\\://|www)\\S+\", '', tweet)\n",
    "    tweet = re.sub(r'[^\\w\\s]', '', tweet)\n",
    "    \n",
    "    #Replace #word with word\n",
    "    tweet = re.sub(r'#([^\\s]+)', r'\\1', tweet)\n",
    "    \n",
    "    #Remove punctuations\n",
    "    eng_punct = string.punctuation\n",
    "    arabic_punct = '''`÷×؛<>_()*&^%][ـ،/:\"؟.,'{}~¦+|!”…“–ـ'''\n",
    "    punct_list = eng_punct + arabic_punct\n",
    "    tweet = re.sub('[%s]' % re.escape(punct_list), ' ', tweet)\n",
    "    \n",
    "    #Remove digits\n",
    "    tweet = re.sub(r'[0-9]+', '', tweet)    \n",
    "    \n",
    "    #Remove English words\n",
    "    tweet = re.sub(r'\\s*[A-Za-z]+\\b', '' , tweet)\n",
    "    tweet = tweet.rstrip()\n",
    "    \n",
    "    #remove tashkeel\n",
    "    p_tashkeel = re.compile(r'[\\u0617-\\u061A\\u064B-\\u0652]')\n",
    "    tweet = re.sub(p_tashkeel,\"\", tweet)\n",
    "    \n",
    "    \n",
    "    #Remove elongation (repeated letters)\n",
    "    tweet = re.sub(r'(.)\\1+', r'\\1\\1', tweet)\n",
    " \n",
    "    tweet = tweet.replace('وو', 'و')\n",
    "    tweet = tweet.replace('يي', 'ي')\n",
    "    tweet = tweet.replace('اا', 'ا')\n",
    "    \n",
    "    #Normalize letters\n",
    "    tweet = re.sub(\"[إأآا]\", \"ا\", tweet)\n",
    "    tweet = re.sub(\"ى\", \"ي\", tweet)\n",
    "    tweet = re.sub(\"ة\", \"ه\", tweet) \n",
    "    #tweet = re.sub(\"گ\", \"ك\", tweet)\n",
    "    \n",
    "    #Tokenize tweets and remove stop words\n",
    "    stopword_list = stopwords.words('arabic')\n",
    "    tokens = nltk.word_tokenize(tweet)\n",
    "    clean_tokens = [w for w in tokens if w not in stopword_list]\n",
    "    tweet = clean_tokens\n",
    "    \n",
    "    return tweet"
   ]
  },
  {
   "cell_type": "code",
   "execution_count": 72,
   "metadata": {},
   "outputs": [],
   "source": [
    "X = [preprocess(tweet) for tweet in X]"
   ]
  },
  {
   "cell_type": "markdown",
   "metadata": {},
   "source": [
    "# Word Embedding"
   ]
  },
  {
   "cell_type": "code",
   "execution_count": 73,
   "metadata": {},
   "outputs": [],
   "source": [
    "not_found = 0"
   ]
  },
  {
   "cell_type": "code",
   "execution_count": 74,
   "metadata": {},
   "outputs": [],
   "source": [
    "def word_vector(tokens, size, not_found):\n",
    "    vec = np.zeros(size).reshape((1, size))\n",
    "    count = 0\n",
    "    for word in tokens:\n",
    "        try:\n",
    "            vec += model.wv[word].reshape((1, size))\n",
    "            count += 1.\n",
    "        except KeyError:  # handling the case where the token is not in vocabulary\n",
    "            not_found = not_found +1\n",
    "    if count != 0:\n",
    "        vec /= count\n",
    "    return vec, not_found"
   ]
  },
  {
   "cell_type": "code",
   "execution_count": 75,
   "metadata": {},
   "outputs": [
    {
     "name": "stdout",
     "output_type": "stream",
     "text": [
      "Review 0 of 12400\n",
      "Review 1000 of 12400\n",
      "Review 2000 of 12400\n",
      "Review 3000 of 12400\n",
      "Review 4000 of 12400\n",
      "Review 5000 of 12400\n",
      "Review 6000 of 12400\n",
      "Review 7000 of 12400\n",
      "Review 8000 of 12400\n",
      "Review 9000 of 12400\n",
      "Review 10000 of 12400\n",
      "Review 11000 of 12400\n",
      "Review 12000 of 12400\n"
     ]
    },
    {
     "data": {
      "text/plain": [
       "(12400, 300)"
      ]
     },
     "execution_count": 75,
     "metadata": {},
     "output_type": "execute_result"
    }
   ],
   "source": [
    "trainvecs = np.zeros((len(X), 300)) \n",
    "for i in range(len(X)):\n",
    "    if i%1000 == 0:\n",
    "        print(\"Review %d of %d\"%(i,len(X)))\n",
    "    trainvecs[i,:], not_found = word_vector(X[i], 300, not_found)\n",
    "train_df = pd.DataFrame(trainvecs)\n",
    "train_df.shape"
   ]
  },
  {
   "cell_type": "code",
   "execution_count": 76,
   "metadata": {},
   "outputs": [
    {
     "data": {
      "text/plain": [
       "7365"
      ]
     },
     "execution_count": 76,
     "metadata": {},
     "output_type": "execute_result"
    }
   ],
   "source": [
    "not_found "
   ]
  },
  {
   "cell_type": "code",
   "execution_count": 77,
   "metadata": {},
   "outputs": [
    {
     "data": {
      "text/html": [
       "<div>\n",
       "<style scoped>\n",
       "    .dataframe tbody tr th:only-of-type {\n",
       "        vertical-align: middle;\n",
       "    }\n",
       "\n",
       "    .dataframe tbody tr th {\n",
       "        vertical-align: top;\n",
       "    }\n",
       "\n",
       "    .dataframe thead th {\n",
       "        text-align: right;\n",
       "    }\n",
       "</style>\n",
       "<table border=\"1\" class=\"dataframe\">\n",
       "  <thead>\n",
       "    <tr style=\"text-align: right;\">\n",
       "      <th></th>\n",
       "      <th>0</th>\n",
       "      <th>1</th>\n",
       "      <th>2</th>\n",
       "      <th>3</th>\n",
       "      <th>4</th>\n",
       "      <th>5</th>\n",
       "      <th>6</th>\n",
       "      <th>7</th>\n",
       "      <th>8</th>\n",
       "      <th>9</th>\n",
       "      <th>...</th>\n",
       "      <th>290</th>\n",
       "      <th>291</th>\n",
       "      <th>292</th>\n",
       "      <th>293</th>\n",
       "      <th>294</th>\n",
       "      <th>295</th>\n",
       "      <th>296</th>\n",
       "      <th>297</th>\n",
       "      <th>298</th>\n",
       "      <th>299</th>\n",
       "    </tr>\n",
       "  </thead>\n",
       "  <tbody>\n",
       "    <tr>\n",
       "      <th>0</th>\n",
       "      <td>0.035000</td>\n",
       "      <td>-0.063119</td>\n",
       "      <td>0.041225</td>\n",
       "      <td>-0.007127</td>\n",
       "      <td>-0.093626</td>\n",
       "      <td>0.013260</td>\n",
       "      <td>0.024302</td>\n",
       "      <td>0.131483</td>\n",
       "      <td>0.195272</td>\n",
       "      <td>0.072334</td>\n",
       "      <td>...</td>\n",
       "      <td>-0.120799</td>\n",
       "      <td>0.161850</td>\n",
       "      <td>-0.074506</td>\n",
       "      <td>0.137433</td>\n",
       "      <td>-0.202058</td>\n",
       "      <td>-0.129927</td>\n",
       "      <td>-0.074563</td>\n",
       "      <td>-0.104690</td>\n",
       "      <td>-0.242893</td>\n",
       "      <td>0.029386</td>\n",
       "    </tr>\n",
       "    <tr>\n",
       "      <th>1</th>\n",
       "      <td>-0.002358</td>\n",
       "      <td>-0.049349</td>\n",
       "      <td>0.127819</td>\n",
       "      <td>0.033890</td>\n",
       "      <td>-0.109807</td>\n",
       "      <td>0.074026</td>\n",
       "      <td>-0.008648</td>\n",
       "      <td>0.256219</td>\n",
       "      <td>0.033318</td>\n",
       "      <td>-0.082484</td>\n",
       "      <td>...</td>\n",
       "      <td>-0.103116</td>\n",
       "      <td>0.170789</td>\n",
       "      <td>-0.102738</td>\n",
       "      <td>0.008102</td>\n",
       "      <td>-0.249915</td>\n",
       "      <td>-0.182160</td>\n",
       "      <td>-0.124055</td>\n",
       "      <td>0.002594</td>\n",
       "      <td>-0.182736</td>\n",
       "      <td>0.085631</td>\n",
       "    </tr>\n",
       "    <tr>\n",
       "      <th>2</th>\n",
       "      <td>-0.006748</td>\n",
       "      <td>-0.106278</td>\n",
       "      <td>0.171343</td>\n",
       "      <td>0.054713</td>\n",
       "      <td>-0.027100</td>\n",
       "      <td>0.001456</td>\n",
       "      <td>-0.066215</td>\n",
       "      <td>0.209260</td>\n",
       "      <td>0.071730</td>\n",
       "      <td>0.016996</td>\n",
       "      <td>...</td>\n",
       "      <td>-0.095918</td>\n",
       "      <td>0.258481</td>\n",
       "      <td>-0.062382</td>\n",
       "      <td>0.141522</td>\n",
       "      <td>-0.262340</td>\n",
       "      <td>-0.073579</td>\n",
       "      <td>-0.037189</td>\n",
       "      <td>-0.052655</td>\n",
       "      <td>-0.177113</td>\n",
       "      <td>0.167130</td>\n",
       "    </tr>\n",
       "    <tr>\n",
       "      <th>3</th>\n",
       "      <td>-0.051608</td>\n",
       "      <td>-0.066554</td>\n",
       "      <td>0.007458</td>\n",
       "      <td>-0.020472</td>\n",
       "      <td>-0.116221</td>\n",
       "      <td>-0.029016</td>\n",
       "      <td>-0.006034</td>\n",
       "      <td>0.016475</td>\n",
       "      <td>0.086276</td>\n",
       "      <td>0.030419</td>\n",
       "      <td>...</td>\n",
       "      <td>-0.172989</td>\n",
       "      <td>0.110122</td>\n",
       "      <td>0.011963</td>\n",
       "      <td>0.091052</td>\n",
       "      <td>-0.330741</td>\n",
       "      <td>-0.171295</td>\n",
       "      <td>0.013318</td>\n",
       "      <td>-0.026222</td>\n",
       "      <td>-0.130250</td>\n",
       "      <td>0.085288</td>\n",
       "    </tr>\n",
       "    <tr>\n",
       "      <th>4</th>\n",
       "      <td>0.081102</td>\n",
       "      <td>-0.132850</td>\n",
       "      <td>0.077125</td>\n",
       "      <td>0.025737</td>\n",
       "      <td>0.002054</td>\n",
       "      <td>0.021966</td>\n",
       "      <td>-0.002050</td>\n",
       "      <td>0.105279</td>\n",
       "      <td>0.108427</td>\n",
       "      <td>0.051023</td>\n",
       "      <td>...</td>\n",
       "      <td>-0.213712</td>\n",
       "      <td>0.196447</td>\n",
       "      <td>-0.119228</td>\n",
       "      <td>0.010986</td>\n",
       "      <td>-0.225218</td>\n",
       "      <td>-0.151926</td>\n",
       "      <td>-0.063673</td>\n",
       "      <td>-0.006175</td>\n",
       "      <td>-0.131117</td>\n",
       "      <td>0.066686</td>\n",
       "    </tr>\n",
       "  </tbody>\n",
       "</table>\n",
       "<p>5 rows × 300 columns</p>\n",
       "</div>"
      ],
      "text/plain": [
       "        0         1         2         3         4         5         6    \\\n",
       "0  0.035000 -0.063119  0.041225 -0.007127 -0.093626  0.013260  0.024302   \n",
       "1 -0.002358 -0.049349  0.127819  0.033890 -0.109807  0.074026 -0.008648   \n",
       "2 -0.006748 -0.106278  0.171343  0.054713 -0.027100  0.001456 -0.066215   \n",
       "3 -0.051608 -0.066554  0.007458 -0.020472 -0.116221 -0.029016 -0.006034   \n",
       "4  0.081102 -0.132850  0.077125  0.025737  0.002054  0.021966 -0.002050   \n",
       "\n",
       "        7         8         9    ...       290       291       292       293  \\\n",
       "0  0.131483  0.195272  0.072334  ... -0.120799  0.161850 -0.074506  0.137433   \n",
       "1  0.256219  0.033318 -0.082484  ... -0.103116  0.170789 -0.102738  0.008102   \n",
       "2  0.209260  0.071730  0.016996  ... -0.095918  0.258481 -0.062382  0.141522   \n",
       "3  0.016475  0.086276  0.030419  ... -0.172989  0.110122  0.011963  0.091052   \n",
       "4  0.105279  0.108427  0.051023  ... -0.213712  0.196447 -0.119228  0.010986   \n",
       "\n",
       "        294       295       296       297       298       299  \n",
       "0 -0.202058 -0.129927 -0.074563 -0.104690 -0.242893  0.029386  \n",
       "1 -0.249915 -0.182160 -0.124055  0.002594 -0.182736  0.085631  \n",
       "2 -0.262340 -0.073579 -0.037189 -0.052655 -0.177113  0.167130  \n",
       "3 -0.330741 -0.171295  0.013318 -0.026222 -0.130250  0.085288  \n",
       "4 -0.225218 -0.151926 -0.063673 -0.006175 -0.131117  0.066686  \n",
       "\n",
       "[5 rows x 300 columns]"
      ]
     },
     "execution_count": 77,
     "metadata": {},
     "output_type": "execute_result"
    }
   ],
   "source": [
    "train_df.head()"
   ]
  },
  {
   "cell_type": "code",
   "execution_count": 54,
   "metadata": {
    "id": "aadbec76"
   },
   "outputs": [],
   "source": [
    "#Create a svm Classifier\n",
    "from sklearn.model_selection import cross_validate\n",
    "clf = svm.SVC(kernel='rbf') # Gaussian Kernel\n"
   ]
  },
  {
   "cell_type": "code",
   "execution_count": 55,
   "metadata": {
    "colab": {
     "base_uri": "https://localhost:8080/",
     "height": 331
    },
    "id": "81e95cba",
    "outputId": "c8e5508d-5e01-4f34-a576-b2a5668374f5"
   },
   "outputs": [],
   "source": [
    "scoresGauss = cross_validate(clf, trainvecs, y, cv=10, scoring=('accuracy','f1_micro', 'f1_macro'),return_train_score=True)"
   ]
  },
  {
   "cell_type": "code",
   "execution_count": 56,
   "metadata": {},
   "outputs": [
    {
     "name": "stdout",
     "output_type": "stream",
     "text": [
      "[0.95967742 0.96612903 0.96290323 0.9516129  0.95403226 0.95322581\n",
      " 0.95725806 0.97016129 0.97983871 0.89112903]\n",
      "mean: 0.9545967741935485\n",
      "min: 0.8911290322580645\n",
      "max: 0.9798387096774194\n",
      "std: 0.023929412372767432\n"
     ]
    }
   ],
   "source": [
    "acc = scoresGauss['test_accuracy']\n",
    "print(acc)\n",
    "print(\"mean: \"+str(np.average(acc)))\n",
    "print(\"min: \"+str(min(acc)))\n",
    "print(\"max: \"+str(max(acc)))\n",
    "print(\"std: \"+str(statistics.stdev(acc)))"
   ]
  },
  {
   "cell_type": "code",
   "execution_count": 57,
   "metadata": {},
   "outputs": [
    {
     "name": "stdout",
     "output_type": "stream",
     "text": [
      "[0.95967742 0.96612903 0.96290323 0.9516129  0.95403226 0.95322581\n",
      " 0.95725806 0.97016129 0.97983871 0.89112903]\n",
      "mean: 0.9545967741935485\n",
      "min: 0.8911290322580645\n",
      "max: 0.9798387096774194\n",
      "std: 0.023929412372767436\n"
     ]
    }
   ],
   "source": [
    "micro = scoresGauss['test_f1_micro']\n",
    "print(micro)\n",
    "print(\"mean: \"+str(np.average(micro)))\n",
    "print(\"min: \"+str(min(micro)))\n",
    "print(\"max: \"+str(max(micro)))\n",
    "print(\"std: \"+str(statistics.stdev(micro)))"
   ]
  },
  {
   "cell_type": "code",
   "execution_count": 58,
   "metadata": {},
   "outputs": [
    {
     "name": "stdout",
     "output_type": "stream",
     "text": [
      "[0.95601077 0.96323322 0.95984897 0.94772917 0.9506416  0.95039945\n",
      " 0.95315455 0.96787203 0.9782717  0.87783866]\n",
      "mean: 0.9505000119556118\n",
      "min: 0.8778386638439662\n",
      "max: 0.9782717032391284\n",
      "std: 0.027177166719923943\n"
     ]
    }
   ],
   "source": [
    "macro = scoresGauss['test_f1_macro']\n",
    "print(macro)\n",
    "print(\"mean: \"+str(np.average(macro)))\n",
    "print(\"min: \"+str(min(macro)))\n",
    "print(\"max: \"+str(max(macro)))\n",
    "print(\"std: \"+str(statistics.stdev(macro)))"
   ]
  },
  {
   "cell_type": "code",
   "execution_count": 78,
   "metadata": {},
   "outputs": [],
   "source": [
    "from sklearn.model_selection import KFold\n",
    " \n",
    "clf2 = svm.SVC(kernel='linear') # Linear Kernel\n",
    "\n",
    "cv = KFold(n_splits=10, random_state=42, shuffle=True)\n",
    "scores = cross_validate(clf2, trainvecs, y, scoring=('accuracy','f1_micro', 'f1_macro'),return_train_score=True, cv=cv, n_jobs=-1)"
   ]
  },
  {
   "cell_type": "code",
   "execution_count": 80,
   "metadata": {},
   "outputs": [],
   "source": [
    "from sklearn.model_selection import cross_val_predict\n",
    "from sklearn.metrics import confusion_matrix\n",
    "# we get same results each run\n",
    "y_pred = cross_val_predict(clf2, trainvecs, y, cv=cv)"
   ]
  },
  {
   "cell_type": "code",
   "execution_count": 79,
   "metadata": {},
   "outputs": [
    {
     "name": "stdout",
     "output_type": "stream",
     "text": [
      "[0.96693548 0.96612903 0.96935484 0.96854839 0.96290323 0.96209677\n",
      " 0.95806452 0.95887097 0.95322581 0.96370968]\n",
      "mean: 0.9629838709677419\n",
      "min: 0.9532258064516129\n",
      "max: 0.9693548387096774\n",
      "std: 0.005106819419028248\n"
     ]
    }
   ],
   "source": [
    "acc = scores['test_accuracy']\n",
    "print(acc)\n",
    "print(\"mean: \"+str(np.average(acc)))\n",
    "print(\"min: \"+str(min(acc)))\n",
    "print(\"max: \"+str(max(acc)))\n",
    "print(\"std: \"+str(statistics.stdev(acc)))"
   ]
  },
  {
   "cell_type": "code",
   "execution_count": 61,
   "metadata": {},
   "outputs": [
    {
     "name": "stdout",
     "output_type": "stream",
     "text": [
      "[0.95645161 0.95967742 0.96209677 0.96693548 0.95483871 0.95967742\n",
      " 0.95322581 0.95080645 0.9483871  0.95887097]\n",
      "mean: 0.9570967741935485\n",
      "min: 0.9483870967741934\n",
      "max: 0.9669354838709677\n",
      "std: 0.005519596889337924\n"
     ]
    }
   ],
   "source": [
    "micro = scores['test_f1_micro']\n",
    "print(micro)\n",
    "print(\"mean: \"+str(np.average(micro)))\n",
    "print(\"min: \"+str(min(micro)))\n",
    "print(\"max: \"+str(max(micro)))\n",
    "print(\"std: \"+str(statistics.stdev(micro)))"
   ]
  },
  {
   "cell_type": "code",
   "execution_count": 62,
   "metadata": {},
   "outputs": [
    {
     "name": "stdout",
     "output_type": "stream",
     "text": [
      "[0.95272842 0.95627287 0.95899583 0.96394712 0.95102561 0.95623002\n",
      " 0.94993303 0.94776961 0.94504018 0.95515374]\n",
      "mean: 0.953709644235665\n",
      "min: 0.9450401810571454\n",
      "max: 0.9639471233931685\n",
      "std: 0.005584013417522471\n"
     ]
    }
   ],
   "source": [
    "macro = scores['test_f1_macro']\n",
    "print(macro)\n",
    "print(\"mean: \"+str(np.average(macro)))\n",
    "print(\"min: \"+str(min(macro)))\n",
    "print(\"max: \"+str(max(macro)))\n",
    "print(\"std: \"+str(statistics.stdev(macro)))"
   ]
  },
  {
   "cell_type": "code",
   "execution_count": 101,
   "metadata": {},
   "outputs": [],
   "source": [
    "font = {'size'   : 20}\n",
    "plt.rc('font', **font)"
   ]
  },
  {
   "cell_type": "code",
   "execution_count": 104,
   "metadata": {},
   "outputs": [],
   "source": [
    "import seaborn as sns  \n",
    "from sklearn.metrics import confusion_matrix  \n",
    "def plot_confusion_matrix(actual_classes : np.array, predicted_classes : np.array):  \n",
    "  \n",
    "    matrix = confusion_matrix(actual_classes, predicted_classes)  \n",
    "      \n",
    "    plt.figure(figsize=(12.8,6))  \n",
    "    sns.heatmap(matrix, annot=True, cmap=\"Blues\", fmt=\"g\")  \n",
    "    plt.xlabel('Predicted'); plt.ylabel('Actual'); plt.title('Confusion Matrix SVM')  \n",
    "  \n",
    "    plt.show()"
   ]
  },
  {
   "cell_type": "code",
   "execution_count": 105,
   "metadata": {},
   "outputs": [
    {
     "data": {
      "image/png": "[encoded data removed]",
      "text/plain": [
       "<Figure size 921.6x432 with 2 Axes>"
      ]
     },
     "metadata": {
      "needs_background": "light"
     },
     "output_type": "display_data"
    }
   ],
   "source": [
    "plot_confusion_matrix(y, y_pred)"
   ]
  }
 ],
 "metadata": {
  "accelerator": "GPU",
  "colab": {
   "name": "aravecSVM.ipynb",
   "provenance": []
  },
  "kernelspec": {
   "display_name": "Python 3",
   "language": "python",
   "name": "python3"
  },
  "language_info": {
   "codemirror_mode": {
    "name": "ipython",
    "version": 3
   },
   "file_extension": ".py",
   "mimetype": "text/x-python",
   "name": "python",
   "nbconvert_exporter": "python",
   "pygments_lexer": "ipython3",
   "version": "3.8.3"
  }
 },
 "nbformat": 4,
 "nbformat_minor": 5
}
